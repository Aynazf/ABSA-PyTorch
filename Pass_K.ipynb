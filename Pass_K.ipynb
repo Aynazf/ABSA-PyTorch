{
  "cells": [
    {
      "cell_type": "markdown",
      "metadata": {
        "id": "view-in-github",
        "colab_type": "text"
      },
      "source": [
        "<a href=\"https://colab.research.google.com/github/Aynazf/ABSA-PyTorch/blob/master/Pass_K.ipynb\" target=\"_parent\"><img src=\"https://colab.research.google.com/assets/colab-badge.svg\" alt=\"Open In Colab\"/></a>"
      ]
    },
    {
      "cell_type": "code",
      "source": [
        "from google.colab import drive\n",
        "drive.mount('/content/drive')"
      ],
      "metadata": {
        "colab": {
          "base_uri": "https://localhost:8080/"
        },
        "id": "RME58Rgjat_O",
        "outputId": "2c5a3ff3-2d51-40ff-e87c-597a59725849"
      },
      "execution_count": null,
      "outputs": [
        {
          "output_type": "stream",
          "name": "stdout",
          "text": [
            "Mounted at /content/drive\n"
          ]
        }
      ]
    },
    {
      "cell_type": "code",
      "source": [
        "%%capture\n",
        "!pip install evaluate\n",
        "!pip install xlsxwriter"
      ],
      "metadata": {
        "id": "5y4_vVf-j0sV"
      },
      "execution_count": null,
      "outputs": []
    },
    {
      "cell_type": "code",
      "execution_count": null,
      "metadata": {
        "id": "3a0G_mSy3aLm"
      },
      "outputs": [],
      "source": [
        "import os\n",
        "os.environ[\"HF_ALLOW_CODE_EVAL\"] = \"1\""
      ]
    },
    {
      "cell_type": "code",
      "source": [
        "from evaluate import load\n",
        "# code_eval = load(\"code_eval\")\n",
        "code_eval_metric = load(\"code_eval\")"
      ],
      "metadata": {
        "colab": {
          "base_uri": "https://localhost:8080/",
          "height": 81,
          "referenced_widgets": [
            "f0256e2ec1eb4b4dbe70ce58265e9111",
            "ca1d0740efd24426858f554ad7dddcbc",
            "7d0bf913280a480a9613421330f45278",
            "f64d8af45fc548afb6871f02572cc47c",
            "8d4a0b2284b04942bb0ca17f14ff76b7",
            "ea2e74f4b622479c9c66da939d8215c4",
            "bf7e2509361d48ffa4c73b0676efd582",
            "596f027664e94706917ce5bb7465dcbd",
            "d11b98b81a394378b9b15f0d02f7268e",
            "43138a9392ff4e97b9fa2f9a6c213802",
            "69a0df666fdc4280aeae07074a35bd4a",
            "a1770c42d04f43c49dcd8addf0cef301",
            "ff9ec0a7f39540789c57ce06b8d8646a",
            "2e37a0acee5240b7b3b770f8a2feb3cc",
            "2c213b3ec11343038e98a7f3497c233e",
            "910a899408384ce1ac2090981ef2022d",
            "2cca4e63164c4c7ea74e65588197eed3",
            "8b7ec0cee10d464b8340f6afc88970ae",
            "0faeb80f6dc244c2b7a200bc4a32bab4",
            "decb0ef26dd7474db864afe3f48a0441",
            "4c32d75596d948258d737438a0dd48aa",
            "973f316454b9404d88ca3aef862f7131"
          ]
        },
        "id": "GUcQAEk6f9YE",
        "outputId": "3b318e0e-1d17-48be-9306-6290acdec1ac"
      },
      "execution_count": null,
      "outputs": [
        {
          "output_type": "display_data",
          "data": {
            "text/plain": [
              "Downloading builder script:   0%|          | 0.00/9.18k [00:00<?, ?B/s]"
            ],
            "application/vnd.jupyter.widget-view+json": {
              "version_major": 2,
              "version_minor": 0,
              "model_id": "f0256e2ec1eb4b4dbe70ce58265e9111"
            }
          },
          "metadata": {}
        },
        {
          "output_type": "display_data",
          "data": {
            "text/plain": [
              "Downloading extra modules:   0%|          | 0.00/6.10k [00:00<?, ?B/s]"
            ],
            "application/vnd.jupyter.widget-view+json": {
              "version_major": 2,
              "version_minor": 0,
              "model_id": "a1770c42d04f43c49dcd8addf0cef301"
            }
          },
          "metadata": {}
        }
      ]
    },
    {
      "cell_type": "code",
      "source": [
        "import textwrap\n",
        "def proccess_test_cases(test_case):\n",
        "\n",
        "    test_case=test_case.replace('def check(candidate):', '')\n",
        "    test_case=textwrap.dedent(test_case)\n",
        "    test_case=test_case.replace('assert candidate', 'assert calculate_risk_weight')\n",
        "\n",
        "    return test_case"
      ],
      "metadata": {
        "id": "TmSHf_FBdCHz"
      },
      "execution_count": null,
      "outputs": []
    },
    {
      "cell_type": "code",
      "source": [
        "import pandas as pd\n",
        "test_cases=pd.read_excel('/content/drive/MyDrive/RegAI/paper/code_dataset.xlsx',sheet_name=None)\n",
        "keys=list(test_cases.keys())\n",
        "\n",
        "valid_cases=[]\n",
        "invalid_cases=[]\n",
        "both_cases=[]\n",
        "for key in keys:\n",
        "    sheet=test_cases[key]\n",
        "    test_valid=sheet['Test_Valid'][0]\n",
        "    test_valid=proccess_test_cases(test_valid)\n",
        "    valid_cases.append(test_valid)\n",
        "    test_invalid=sheet['Test_Invalid'][0]\n",
        "    test_invalid=proccess_test_cases(test_invalid)\n",
        "    invalid_cases.append(test_invalid)\n",
        "    both_cases.append(test_valid+test_invalid)"
      ],
      "metadata": {
        "id": "gJuY8JcldOVD"
      },
      "execution_count": null,
      "outputs": []
    },
    {
      "cell_type": "code",
      "source": [
        "temp=0\n",
        "df=pd.read_excel(f'/content/drive/MyDrive/RegAI/paper/Mistral_large/functions_5000_T{temp}.xlsx')\n",
        "keys=list(df.keys())\n",
        "\n",
        "predictions=[]\n",
        "for key in keys:\n",
        "    curr_sheet=[]\n",
        "    for item in df[key]:\n",
        "      curr_sheet.append(item)\n",
        "    predictions.append(curr_sheet)\n"
      ],
      "metadata": {
        "id": "jZyfZXqYb28e"
      },
      "execution_count": null,
      "outputs": []
    },
    {
      "cell_type": "code",
      "execution_count": null,
      "metadata": {
        "colab": {
          "base_uri": "https://localhost:8080/"
        },
        "id": "m6WsrBLpYoMa",
        "outputId": "8d918628-4621-4c65-fd4b-b87e5e70a202"
      },
      "outputs": [
        {
          "output_type": "stream",
          "name": "stderr",
          "text": [
            "/usr/lib/python3.10/multiprocessing/popen_fork.py:66: RuntimeWarning: os.fork() was called. os.fork() is incompatible with multithreaded code, and JAX is multithreaded, so this will likely lead to a deadlock.\n",
            "  self.pid = os.fork()\n"
          ]
        },
        {
          "output_type": "stream",
          "name": "stdout",
          "text": [
            "Pass valid {'pass@1': 0.1846153846153846, 'pass@5': 0.22893772893772896, 'pass@10': 0.23076923076923078}\n",
            "Pass invalid {'pass@1': 0.5999999999999999, 'pass@5': 0.6904761904761905, 'pass@10': 0.6923076923076923}\n",
            "Pass both {'pass@1': 0.15384615384615385, 'pass@5': 0.15384615384615385, 'pass@10': 0.15384615384615385}\n"
          ]
        }
      ],
      "source": [
        "pass_at_k, results_valid = code_eval_metric.compute(references=valid_cases, predictions=predictions, k=[1, 5, 10])\n",
        "pass_at_k_invalid, results_invalid = code_eval_metric.compute(references=invalid_cases, predictions=predictions, k=[1, 5, 10])\n",
        "pass_at_k_both, results_both = code_eval_metric.compute(references=both_cases, predictions=predictions, k=[1, 5, 10])\n",
        "print(\"Pass valid\",pass_at_k)\n",
        "print(\"Pass invalid\" , pass_at_k_invalid)\n",
        "print(\"Pass both\" , pass_at_k_both)"
      ]
    },
    {
      "cell_type": "code",
      "source": [
        "# Specify the Excel file path\n",
        "excel_file = f'Mistral_Large_temp_5000_{temp}_results.xlsx'\n",
        "\n",
        "# Create a Pandas Excel writer using XlsxWriter as the engine\n",
        "with pd.ExcelWriter(excel_file, engine='xlsxwriter') as writer:\n",
        "    # Loop to create 13 sheets with different DataFrames\n",
        "    for i in range(1, 14):\n",
        "        passes=[]\n",
        "        results=[]\n",
        "        types=[]\n",
        "        for item in results_valid:\n",
        "            for id in results_valid[item]:\n",
        "              if id[1]['task_id']==i-1:\n",
        "                  types.append('valid')\n",
        "                  passes.append(id[1]['passed'])\n",
        "                  results.append(id[1]['result'])\n",
        "        passes.append(' ')\n",
        "        results.append(' ')\n",
        "        types.append(' ')\n",
        "        for item in results_invalid:\n",
        "            for id in results_invalid[item]:\n",
        "              if id[1]['task_id']==i-1:\n",
        "                  types.append('invalid')\n",
        "                  passes.append(id[1]['passed'])\n",
        "                  results.append(id[1]['result'])\n",
        "        passes.append(' ')\n",
        "        results.append(' ')\n",
        "        types.append(' ')\n",
        "        for item in results_both:\n",
        "            for id in results_both[item]:\n",
        "              if id[1]['task_id']==i-1:\n",
        "                  types.append('invalid')\n",
        "                  passes.append(id[1]['passed'])\n",
        "                  results.append(id[1]['result'])\n",
        "        # Generate different data for each sheet\n",
        "        data = {\n",
        "            'type': types,\n",
        "            'passed': passes,\n",
        "            'result': results\n",
        "        }\n",
        "        df = pd.DataFrame(data)  # Create a DataFrame with different data for each sheet\n",
        "        sheet_name = f'Sheet{i}'  # Name the sheet as 'Sheet1', 'Sheet2', ..., 'Sheet13'\n",
        "        df.to_excel(writer, sheet_name=sheet_name, index=False)\n",
        "\n",
        "# The Excel file is now saved with 13 sheets with different DataFrames\n",
        "print(f'Excel file saved as {excel_file}')"
      ],
      "metadata": {
        "colab": {
          "base_uri": "https://localhost:8080/"
        },
        "id": "4Lx8BU9Vhlxc",
        "outputId": "68c95d9a-0a66-4e31-a14c-e920ceb5aa69"
      },
      "execution_count": null,
      "outputs": [
        {
          "output_type": "stream",
          "name": "stdout",
          "text": [
            "Excel file saved as Mistral_Large_temp_5000_0_results.xlsx\n"
          ]
        }
      ]
    },
    {
      "cell_type": "code",
      "execution_count": null,
      "metadata": {
        "id": "3fthHLo13fzU"
      },
      "outputs": [],
      "source": [
        "results"
      ]
    }
  ],
  "metadata": {
    "colab": {
      "provenance": [],
      "authorship_tag": "ABX9TyMO8DMLHZkp4Y/6/bOFeHkO",
      "include_colab_link": true
    },
    "kernelspec": {
      "display_name": "Python 3",
      "name": "python3"
    },
    "language_info": {
      "name": "python"
    },
    "widgets": {
      "application/vnd.jupyter.widget-state+json": {
        "f0256e2ec1eb4b4dbe70ce58265e9111": {
          "model_module": "@jupyter-widgets/controls",
          "model_name": "HBoxModel",
          "model_module_version": "1.5.0",
          "state": {
            "_dom_classes": [],
            "_model_module": "@jupyter-widgets/controls",
            "_model_module_version": "1.5.0",
            "_model_name": "HBoxModel",
            "_view_count": null,
            "_view_module": "@jupyter-widgets/controls",
            "_view_module_version": "1.5.0",
            "_view_name": "HBoxView",
            "box_style": "",
            "children": [
              "IPY_MODEL_ca1d0740efd24426858f554ad7dddcbc",
              "IPY_MODEL_7d0bf913280a480a9613421330f45278",
              "IPY_MODEL_f64d8af45fc548afb6871f02572cc47c"
            ],
            "layout": "IPY_MODEL_8d4a0b2284b04942bb0ca17f14ff76b7"
          }
        },
        "ca1d0740efd24426858f554ad7dddcbc": {
          "model_module": "@jupyter-widgets/controls",
          "model_name": "HTMLModel",
          "model_module_version": "1.5.0",
          "state": {
            "_dom_classes": [],
            "_model_module": "@jupyter-widgets/controls",
            "_model_module_version": "1.5.0",
            "_model_name": "HTMLModel",
            "_view_count": null,
            "_view_module": "@jupyter-widgets/controls",
            "_view_module_version": "1.5.0",
            "_view_name": "HTMLView",
            "description": "",
            "description_tooltip": null,
            "layout": "IPY_MODEL_ea2e74f4b622479c9c66da939d8215c4",
            "placeholder": "​",
            "style": "IPY_MODEL_bf7e2509361d48ffa4c73b0676efd582",
            "value": "Downloading builder script: 100%"
          }
        },
        "7d0bf913280a480a9613421330f45278": {
          "model_module": "@jupyter-widgets/controls",
          "model_name": "FloatProgressModel",
          "model_module_version": "1.5.0",
          "state": {
            "_dom_classes": [],
            "_model_module": "@jupyter-widgets/controls",
            "_model_module_version": "1.5.0",
            "_model_name": "FloatProgressModel",
            "_view_count": null,
            "_view_module": "@jupyter-widgets/controls",
            "_view_module_version": "1.5.0",
            "_view_name": "ProgressView",
            "bar_style": "success",
            "description": "",
            "description_tooltip": null,
            "layout": "IPY_MODEL_596f027664e94706917ce5bb7465dcbd",
            "max": 9178,
            "min": 0,
            "orientation": "horizontal",
            "style": "IPY_MODEL_d11b98b81a394378b9b15f0d02f7268e",
            "value": 9178
          }
        },
        "f64d8af45fc548afb6871f02572cc47c": {
          "model_module": "@jupyter-widgets/controls",
          "model_name": "HTMLModel",
          "model_module_version": "1.5.0",
          "state": {
            "_dom_classes": [],
            "_model_module": "@jupyter-widgets/controls",
            "_model_module_version": "1.5.0",
            "_model_name": "HTMLModel",
            "_view_count": null,
            "_view_module": "@jupyter-widgets/controls",
            "_view_module_version": "1.5.0",
            "_view_name": "HTMLView",
            "description": "",
            "description_tooltip": null,
            "layout": "IPY_MODEL_43138a9392ff4e97b9fa2f9a6c213802",
            "placeholder": "​",
            "style": "IPY_MODEL_69a0df666fdc4280aeae07074a35bd4a",
            "value": " 9.18k/9.18k [00:00&lt;00:00, 387kB/s]"
          }
        },
        "8d4a0b2284b04942bb0ca17f14ff76b7": {
          "model_module": "@jupyter-widgets/base",
          "model_name": "LayoutModel",
          "model_module_version": "1.2.0",
          "state": {
            "_model_module": "@jupyter-widgets/base",
            "_model_module_version": "1.2.0",
            "_model_name": "LayoutModel",
            "_view_count": null,
            "_view_module": "@jupyter-widgets/base",
            "_view_module_version": "1.2.0",
            "_view_name": "LayoutView",
            "align_content": null,
            "align_items": null,
            "align_self": null,
            "border": null,
            "bottom": null,
            "display": null,
            "flex": null,
            "flex_flow": null,
            "grid_area": null,
            "grid_auto_columns": null,
            "grid_auto_flow": null,
            "grid_auto_rows": null,
            "grid_column": null,
            "grid_gap": null,
            "grid_row": null,
            "grid_template_areas": null,
            "grid_template_columns": null,
            "grid_template_rows": null,
            "height": null,
            "justify_content": null,
            "justify_items": null,
            "left": null,
            "margin": null,
            "max_height": null,
            "max_width": null,
            "min_height": null,
            "min_width": null,
            "object_fit": null,
            "object_position": null,
            "order": null,
            "overflow": null,
            "overflow_x": null,
            "overflow_y": null,
            "padding": null,
            "right": null,
            "top": null,
            "visibility": null,
            "width": null
          }
        },
        "ea2e74f4b622479c9c66da939d8215c4": {
          "model_module": "@jupyter-widgets/base",
          "model_name": "LayoutModel",
          "model_module_version": "1.2.0",
          "state": {
            "_model_module": "@jupyter-widgets/base",
            "_model_module_version": "1.2.0",
            "_model_name": "LayoutModel",
            "_view_count": null,
            "_view_module": "@jupyter-widgets/base",
            "_view_module_version": "1.2.0",
            "_view_name": "LayoutView",
            "align_content": null,
            "align_items": null,
            "align_self": null,
            "border": null,
            "bottom": null,
            "display": null,
            "flex": null,
            "flex_flow": null,
            "grid_area": null,
            "grid_auto_columns": null,
            "grid_auto_flow": null,
            "grid_auto_rows": null,
            "grid_column": null,
            "grid_gap": null,
            "grid_row": null,
            "grid_template_areas": null,
            "grid_template_columns": null,
            "grid_template_rows": null,
            "height": null,
            "justify_content": null,
            "justify_items": null,
            "left": null,
            "margin": null,
            "max_height": null,
            "max_width": null,
            "min_height": null,
            "min_width": null,
            "object_fit": null,
            "object_position": null,
            "order": null,
            "overflow": null,
            "overflow_x": null,
            "overflow_y": null,
            "padding": null,
            "right": null,
            "top": null,
            "visibility": null,
            "width": null
          }
        },
        "bf7e2509361d48ffa4c73b0676efd582": {
          "model_module": "@jupyter-widgets/controls",
          "model_name": "DescriptionStyleModel",
          "model_module_version": "1.5.0",
          "state": {
            "_model_module": "@jupyter-widgets/controls",
            "_model_module_version": "1.5.0",
            "_model_name": "DescriptionStyleModel",
            "_view_count": null,
            "_view_module": "@jupyter-widgets/base",
            "_view_module_version": "1.2.0",
            "_view_name": "StyleView",
            "description_width": ""
          }
        },
        "596f027664e94706917ce5bb7465dcbd": {
          "model_module": "@jupyter-widgets/base",
          "model_name": "LayoutModel",
          "model_module_version": "1.2.0",
          "state": {
            "_model_module": "@jupyter-widgets/base",
            "_model_module_version": "1.2.0",
            "_model_name": "LayoutModel",
            "_view_count": null,
            "_view_module": "@jupyter-widgets/base",
            "_view_module_version": "1.2.0",
            "_view_name": "LayoutView",
            "align_content": null,
            "align_items": null,
            "align_self": null,
            "border": null,
            "bottom": null,
            "display": null,
            "flex": null,
            "flex_flow": null,
            "grid_area": null,
            "grid_auto_columns": null,
            "grid_auto_flow": null,
            "grid_auto_rows": null,
            "grid_column": null,
            "grid_gap": null,
            "grid_row": null,
            "grid_template_areas": null,
            "grid_template_columns": null,
            "grid_template_rows": null,
            "height": null,
            "justify_content": null,
            "justify_items": null,
            "left": null,
            "margin": null,
            "max_height": null,
            "max_width": null,
            "min_height": null,
            "min_width": null,
            "object_fit": null,
            "object_position": null,
            "order": null,
            "overflow": null,
            "overflow_x": null,
            "overflow_y": null,
            "padding": null,
            "right": null,
            "top": null,
            "visibility": null,
            "width": null
          }
        },
        "d11b98b81a394378b9b15f0d02f7268e": {
          "model_module": "@jupyter-widgets/controls",
          "model_name": "ProgressStyleModel",
          "model_module_version": "1.5.0",
          "state": {
            "_model_module": "@jupyter-widgets/controls",
            "_model_module_version": "1.5.0",
            "_model_name": "ProgressStyleModel",
            "_view_count": null,
            "_view_module": "@jupyter-widgets/base",
            "_view_module_version": "1.2.0",
            "_view_name": "StyleView",
            "bar_color": null,
            "description_width": ""
          }
        },
        "43138a9392ff4e97b9fa2f9a6c213802": {
          "model_module": "@jupyter-widgets/base",
          "model_name": "LayoutModel",
          "model_module_version": "1.2.0",
          "state": {
            "_model_module": "@jupyter-widgets/base",
            "_model_module_version": "1.2.0",
            "_model_name": "LayoutModel",
            "_view_count": null,
            "_view_module": "@jupyter-widgets/base",
            "_view_module_version": "1.2.0",
            "_view_name": "LayoutView",
            "align_content": null,
            "align_items": null,
            "align_self": null,
            "border": null,
            "bottom": null,
            "display": null,
            "flex": null,
            "flex_flow": null,
            "grid_area": null,
            "grid_auto_columns": null,
            "grid_auto_flow": null,
            "grid_auto_rows": null,
            "grid_column": null,
            "grid_gap": null,
            "grid_row": null,
            "grid_template_areas": null,
            "grid_template_columns": null,
            "grid_template_rows": null,
            "height": null,
            "justify_content": null,
            "justify_items": null,
            "left": null,
            "margin": null,
            "max_height": null,
            "max_width": null,
            "min_height": null,
            "min_width": null,
            "object_fit": null,
            "object_position": null,
            "order": null,
            "overflow": null,
            "overflow_x": null,
            "overflow_y": null,
            "padding": null,
            "right": null,
            "top": null,
            "visibility": null,
            "width": null
          }
        },
        "69a0df666fdc4280aeae07074a35bd4a": {
          "model_module": "@jupyter-widgets/controls",
          "model_name": "DescriptionStyleModel",
          "model_module_version": "1.5.0",
          "state": {
            "_model_module": "@jupyter-widgets/controls",
            "_model_module_version": "1.5.0",
            "_model_name": "DescriptionStyleModel",
            "_view_count": null,
            "_view_module": "@jupyter-widgets/base",
            "_view_module_version": "1.2.0",
            "_view_name": "StyleView",
            "description_width": ""
          }
        },
        "a1770c42d04f43c49dcd8addf0cef301": {
          "model_module": "@jupyter-widgets/controls",
          "model_name": "HBoxModel",
          "model_module_version": "1.5.0",
          "state": {
            "_dom_classes": [],
            "_model_module": "@jupyter-widgets/controls",
            "_model_module_version": "1.5.0",
            "_model_name": "HBoxModel",
            "_view_count": null,
            "_view_module": "@jupyter-widgets/controls",
            "_view_module_version": "1.5.0",
            "_view_name": "HBoxView",
            "box_style": "",
            "children": [
              "IPY_MODEL_ff9ec0a7f39540789c57ce06b8d8646a",
              "IPY_MODEL_2e37a0acee5240b7b3b770f8a2feb3cc",
              "IPY_MODEL_2c213b3ec11343038e98a7f3497c233e"
            ],
            "layout": "IPY_MODEL_910a899408384ce1ac2090981ef2022d"
          }
        },
        "ff9ec0a7f39540789c57ce06b8d8646a": {
          "model_module": "@jupyter-widgets/controls",
          "model_name": "HTMLModel",
          "model_module_version": "1.5.0",
          "state": {
            "_dom_classes": [],
            "_model_module": "@jupyter-widgets/controls",
            "_model_module_version": "1.5.0",
            "_model_name": "HTMLModel",
            "_view_count": null,
            "_view_module": "@jupyter-widgets/controls",
            "_view_module_version": "1.5.0",
            "_view_name": "HTMLView",
            "description": "",
            "description_tooltip": null,
            "layout": "IPY_MODEL_2cca4e63164c4c7ea74e65588197eed3",
            "placeholder": "​",
            "style": "IPY_MODEL_8b7ec0cee10d464b8340f6afc88970ae",
            "value": "Downloading extra modules: 100%"
          }
        },
        "2e37a0acee5240b7b3b770f8a2feb3cc": {
          "model_module": "@jupyter-widgets/controls",
          "model_name": "FloatProgressModel",
          "model_module_version": "1.5.0",
          "state": {
            "_dom_classes": [],
            "_model_module": "@jupyter-widgets/controls",
            "_model_module_version": "1.5.0",
            "_model_name": "FloatProgressModel",
            "_view_count": null,
            "_view_module": "@jupyter-widgets/controls",
            "_view_module_version": "1.5.0",
            "_view_name": "ProgressView",
            "bar_style": "success",
            "description": "",
            "description_tooltip": null,
            "layout": "IPY_MODEL_0faeb80f6dc244c2b7a200bc4a32bab4",
            "max": 6102,
            "min": 0,
            "orientation": "horizontal",
            "style": "IPY_MODEL_decb0ef26dd7474db864afe3f48a0441",
            "value": 6102
          }
        },
        "2c213b3ec11343038e98a7f3497c233e": {
          "model_module": "@jupyter-widgets/controls",
          "model_name": "HTMLModel",
          "model_module_version": "1.5.0",
          "state": {
            "_dom_classes": [],
            "_model_module": "@jupyter-widgets/controls",
            "_model_module_version": "1.5.0",
            "_model_name": "HTMLModel",
            "_view_count": null,
            "_view_module": "@jupyter-widgets/controls",
            "_view_module_version": "1.5.0",
            "_view_name": "HTMLView",
            "description": "",
            "description_tooltip": null,
            "layout": "IPY_MODEL_4c32d75596d948258d737438a0dd48aa",
            "placeholder": "​",
            "style": "IPY_MODEL_973f316454b9404d88ca3aef862f7131",
            "value": " 6.10k/6.10k [00:00&lt;00:00, 208kB/s]"
          }
        },
        "910a899408384ce1ac2090981ef2022d": {
          "model_module": "@jupyter-widgets/base",
          "model_name": "LayoutModel",
          "model_module_version": "1.2.0",
          "state": {
            "_model_module": "@jupyter-widgets/base",
            "_model_module_version": "1.2.0",
            "_model_name": "LayoutModel",
            "_view_count": null,
            "_view_module": "@jupyter-widgets/base",
            "_view_module_version": "1.2.0",
            "_view_name": "LayoutView",
            "align_content": null,
            "align_items": null,
            "align_self": null,
            "border": null,
            "bottom": null,
            "display": null,
            "flex": null,
            "flex_flow": null,
            "grid_area": null,
            "grid_auto_columns": null,
            "grid_auto_flow": null,
            "grid_auto_rows": null,
            "grid_column": null,
            "grid_gap": null,
            "grid_row": null,
            "grid_template_areas": null,
            "grid_template_columns": null,
            "grid_template_rows": null,
            "height": null,
            "justify_content": null,
            "justify_items": null,
            "left": null,
            "margin": null,
            "max_height": null,
            "max_width": null,
            "min_height": null,
            "min_width": null,
            "object_fit": null,
            "object_position": null,
            "order": null,
            "overflow": null,
            "overflow_x": null,
            "overflow_y": null,
            "padding": null,
            "right": null,
            "top": null,
            "visibility": null,
            "width": null
          }
        },
        "2cca4e63164c4c7ea74e65588197eed3": {
          "model_module": "@jupyter-widgets/base",
          "model_name": "LayoutModel",
          "model_module_version": "1.2.0",
          "state": {
            "_model_module": "@jupyter-widgets/base",
            "_model_module_version": "1.2.0",
            "_model_name": "LayoutModel",
            "_view_count": null,
            "_view_module": "@jupyter-widgets/base",
            "_view_module_version": "1.2.0",
            "_view_name": "LayoutView",
            "align_content": null,
            "align_items": null,
            "align_self": null,
            "border": null,
            "bottom": null,
            "display": null,
            "flex": null,
            "flex_flow": null,
            "grid_area": null,
            "grid_auto_columns": null,
            "grid_auto_flow": null,
            "grid_auto_rows": null,
            "grid_column": null,
            "grid_gap": null,
            "grid_row": null,
            "grid_template_areas": null,
            "grid_template_columns": null,
            "grid_template_rows": null,
            "height": null,
            "justify_content": null,
            "justify_items": null,
            "left": null,
            "margin": null,
            "max_height": null,
            "max_width": null,
            "min_height": null,
            "min_width": null,
            "object_fit": null,
            "object_position": null,
            "order": null,
            "overflow": null,
            "overflow_x": null,
            "overflow_y": null,
            "padding": null,
            "right": null,
            "top": null,
            "visibility": null,
            "width": null
          }
        },
        "8b7ec0cee10d464b8340f6afc88970ae": {
          "model_module": "@jupyter-widgets/controls",
          "model_name": "DescriptionStyleModel",
          "model_module_version": "1.5.0",
          "state": {
            "_model_module": "@jupyter-widgets/controls",
            "_model_module_version": "1.5.0",
            "_model_name": "DescriptionStyleModel",
            "_view_count": null,
            "_view_module": "@jupyter-widgets/base",
            "_view_module_version": "1.2.0",
            "_view_name": "StyleView",
            "description_width": ""
          }
        },
        "0faeb80f6dc244c2b7a200bc4a32bab4": {
          "model_module": "@jupyter-widgets/base",
          "model_name": "LayoutModel",
          "model_module_version": "1.2.0",
          "state": {
            "_model_module": "@jupyter-widgets/base",
            "_model_module_version": "1.2.0",
            "_model_name": "LayoutModel",
            "_view_count": null,
            "_view_module": "@jupyter-widgets/base",
            "_view_module_version": "1.2.0",
            "_view_name": "LayoutView",
            "align_content": null,
            "align_items": null,
            "align_self": null,
            "border": null,
            "bottom": null,
            "display": null,
            "flex": null,
            "flex_flow": null,
            "grid_area": null,
            "grid_auto_columns": null,
            "grid_auto_flow": null,
            "grid_auto_rows": null,
            "grid_column": null,
            "grid_gap": null,
            "grid_row": null,
            "grid_template_areas": null,
            "grid_template_columns": null,
            "grid_template_rows": null,
            "height": null,
            "justify_content": null,
            "justify_items": null,
            "left": null,
            "margin": null,
            "max_height": null,
            "max_width": null,
            "min_height": null,
            "min_width": null,
            "object_fit": null,
            "object_position": null,
            "order": null,
            "overflow": null,
            "overflow_x": null,
            "overflow_y": null,
            "padding": null,
            "right": null,
            "top": null,
            "visibility": null,
            "width": null
          }
        },
        "decb0ef26dd7474db864afe3f48a0441": {
          "model_module": "@jupyter-widgets/controls",
          "model_name": "ProgressStyleModel",
          "model_module_version": "1.5.0",
          "state": {
            "_model_module": "@jupyter-widgets/controls",
            "_model_module_version": "1.5.0",
            "_model_name": "ProgressStyleModel",
            "_view_count": null,
            "_view_module": "@jupyter-widgets/base",
            "_view_module_version": "1.2.0",
            "_view_name": "StyleView",
            "bar_color": null,
            "description_width": ""
          }
        },
        "4c32d75596d948258d737438a0dd48aa": {
          "model_module": "@jupyter-widgets/base",
          "model_name": "LayoutModel",
          "model_module_version": "1.2.0",
          "state": {
            "_model_module": "@jupyter-widgets/base",
            "_model_module_version": "1.2.0",
            "_model_name": "LayoutModel",
            "_view_count": null,
            "_view_module": "@jupyter-widgets/base",
            "_view_module_version": "1.2.0",
            "_view_name": "LayoutView",
            "align_content": null,
            "align_items": null,
            "align_self": null,
            "border": null,
            "bottom": null,
            "display": null,
            "flex": null,
            "flex_flow": null,
            "grid_area": null,
            "grid_auto_columns": null,
            "grid_auto_flow": null,
            "grid_auto_rows": null,
            "grid_column": null,
            "grid_gap": null,
            "grid_row": null,
            "grid_template_areas": null,
            "grid_template_columns": null,
            "grid_template_rows": null,
            "height": null,
            "justify_content": null,
            "justify_items": null,
            "left": null,
            "margin": null,
            "max_height": null,
            "max_width": null,
            "min_height": null,
            "min_width": null,
            "object_fit": null,
            "object_position": null,
            "order": null,
            "overflow": null,
            "overflow_x": null,
            "overflow_y": null,
            "padding": null,
            "right": null,
            "top": null,
            "visibility": null,
            "width": null
          }
        },
        "973f316454b9404d88ca3aef862f7131": {
          "model_module": "@jupyter-widgets/controls",
          "model_name": "DescriptionStyleModel",
          "model_module_version": "1.5.0",
          "state": {
            "_model_module": "@jupyter-widgets/controls",
            "_model_module_version": "1.5.0",
            "_model_name": "DescriptionStyleModel",
            "_view_count": null,
            "_view_module": "@jupyter-widgets/base",
            "_view_module_version": "1.2.0",
            "_view_name": "StyleView",
            "description_width": ""
          }
        }
      }
    }
  },
  "nbformat": 4,
  "nbformat_minor": 0
}